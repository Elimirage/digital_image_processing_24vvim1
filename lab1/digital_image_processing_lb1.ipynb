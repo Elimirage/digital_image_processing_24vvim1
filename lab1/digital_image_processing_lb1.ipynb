{
  "nbformat": 4,
  "nbformat_minor": 0,
  "metadata": {
    "colab": {
      "provenance": [],
      "authorship_tag": "ABX9TyNkV7f1wKxKo4KaY7UsRVdc",
      "include_colab_link": true
    },
    "kernelspec": {
      "name": "python3",
      "display_name": "Python 3"
    },
    "language_info": {
      "name": "python"
    }
  },
  "cells": [
    {
      "cell_type": "markdown",
      "metadata": {
        "id": "view-in-github",
        "colab_type": "text"
      },
      "source": [
        "<a href=\"https://colab.research.google.com/github/Elimirage/digital_image_processing_24vvim1/blob/main/lab1/digital_image_processing_lb1.ipynb\" target=\"_parent\"><img src=\"https://colab.research.google.com/assets/colab-badge.svg\" alt=\"Open In Colab\"/></a>"
      ]
    },
    {
      "cell_type": "markdown",
      "source": [
        "# **Лабораторная работа №1**\n",
        "\n",
        "*   Группа: 24ВВИм1\n",
        "*   Юмаева Эльмира\n",
        "\n"
      ],
      "metadata": {
        "id": "W4QmglCUdP4p"
      }
    },
    {
      "cell_type": "markdown",
      "source": [
        "Задание: Необходимо средствами библиотеки numpy сгенерировать два массива со случайными значениями, найти одинаковые и сохранить в третий массив."
      ],
      "metadata": {
        "id": "nhNc6gk6VZzi"
      }
    },
    {
      "cell_type": "code",
      "execution_count": 1,
      "metadata": {
        "colab": {
          "base_uri": "https://localhost:8080/"
        },
        "id": "v5xbYDLfSvvD",
        "outputId": "e0336d6e-1c7e-41a5-dcc7-50715e36b209"
      },
      "outputs": [
        {
          "output_type": "stream",
          "name": "stdout",
          "text": [
            "Requirement already satisfied: numpy in /usr/local/lib/python3.12/dist-packages (2.0.2)\n"
          ]
        }
      ],
      "source": [
        "!pip3 install numpy"
      ]
    },
    {
      "cell_type": "code",
      "source": [
        "import numpy as np"
      ],
      "metadata": {
        "id": "LGXlez6qVaaO"
      },
      "execution_count": 2,
      "outputs": []
    },
    {
      "cell_type": "markdown",
      "source": [
        "# **Одномерные массивы**"
      ],
      "metadata": {
        "id": "DFDG5R3Ift5P"
      }
    },
    {
      "cell_type": "markdown",
      "source": [
        "Создаем массив, заполненный случайными значениями:\n",
        "rnd = np.random.default_rng() -- создаем генератор\n",
        "rnd.integers(min, max, n) -- возвращаем массив размерности n случайных равномерно расспределенных целых чисел, где x ∈ [min, max)\n",
        "Создаем два случайно заполненных массива и один пустой список, для того, чтобы заполнить их повторяющимися элементами. Выводим на экран массивы"
      ],
      "metadata": {
        "id": "G97RsmZLdxUX"
      }
    },
    {
      "cell_type": "code",
      "source": [
        "rnd = np.random.default_rng()\n",
        "a = rnd.integers(0, 10, 30)\n",
        "b = rnd.integers(0, 10, 30)\n",
        "print('Первый массив:',a)\n",
        "print('Второй массив:',b)"
      ],
      "metadata": {
        "colab": {
          "base_uri": "https://localhost:8080/"
        },
        "id": "ZVeEATOoVqHK",
        "outputId": "9a6e9df5-df28-421c-d38f-f7d8f1ad96ab"
      },
      "execution_count": 20,
      "outputs": [
        {
          "output_type": "stream",
          "name": "stdout",
          "text": [
            "Первый массив: [3 1 0 3 4 0 4 7 0 5 3 4 5 7 1 3 1 2 7 0 9 7 3 4 3 5 6 0 0 6]\n",
            "Второй массив: [1 9 3 5 6 9 5 5 1 3 7 9 4 8 1 9 6 3 7 4 6 6 7 7 4 9 8 2 5 9]\n"
          ]
        }
      ]
    },
    {
      "cell_type": "markdown",
      "source": [
        "Используем встроенную функцию NunPy np.intersect1d() - она находит и возвращает уникальные элементы, которые присутствуют в обоих входных массивах, в отсортированном виде. Она полезна для выявления общих элементов между двумя или более массивами, независимо от их типа данных."
      ],
      "metadata": {
        "id": "i0WQC3cTpfBY"
      }
    },
    {
      "cell_type": "code",
      "source": [
        "c = np.intersect1d(a, b)\n",
        "print(c)"
      ],
      "metadata": {
        "id": "tPP8uwoaqXlY",
        "outputId": "6824bcbf-2529-4ffc-8c40-b9555e0de3ac",
        "colab": {
          "base_uri": "https://localhost:8080/"
        }
      },
      "execution_count": 21,
      "outputs": [
        {
          "output_type": "stream",
          "name": "stdout",
          "text": [
            "[1 2 3 4 5 6 7 9]\n"
          ]
        }
      ]
    },
    {
      "cell_type": "markdown",
      "source": [
        "В цикле проверяем находится ли i-тый элемент во втором массиве, есла да - то добавляем его в список. В конце преобразуем нашсписок в массив и выводим на экран. В результате получем массив с повторяющимися элементами"
      ],
      "metadata": {
        "id": "9br-qzJ2eoR6"
      }
    },
    {
      "cell_type": "code",
      "source": [
        "c=[]\n",
        "for i in range(len(a)):\n",
        "    if a[i] in b:\n",
        "        c.append(a[i])\n",
        "c = np.array(c)\n",
        "print(c)"
      ],
      "metadata": {
        "colab": {
          "base_uri": "https://localhost:8080/"
        },
        "id": "64S0jaogbWWN",
        "outputId": "3fdb16cc-d564-4d72-f7c1-f9d6b118bcc6"
      },
      "execution_count": 23,
      "outputs": [
        {
          "output_type": "stream",
          "name": "stdout",
          "text": [
            "[3 1 3 4 4 7 5 3 4 5 7 1 3 1 2 7 9 7 3 4 3 5 6 6]\n"
          ]
        }
      ]
    },
    {
      "cell_type": "markdown",
      "source": [
        "Если же мыхотим получить только уникальные элементы в новом массиве, то используем функцию set, котрая оставляет только уникальные значения и пересечение"
      ],
      "metadata": {
        "id": "ZHkzDn52fGi9"
      }
    },
    {
      "cell_type": "code",
      "source": [
        "c = np.array(list(set(a) & set(b)))\n",
        "print(c)"
      ],
      "metadata": {
        "id": "tFkl9LYWYrDa"
      },
      "execution_count": null,
      "outputs": []
    },
    {
      "cell_type": "markdown",
      "source": [
        "# **Многомерные массивы**"
      ],
      "metadata": {
        "id": "ZbT9mqT5f-9C"
      }
    },
    {
      "cell_type": "markdown",
      "source": [
        "Сгенертровали многомерные массивы"
      ],
      "metadata": {
        "id": "BLDfQZBujjE2"
      }
    },
    {
      "cell_type": "code",
      "source": [
        "a2 = np.random.randint(0, 57, size=(5, 4))\n",
        "b2 = np.random.randint(0, 57, size=(5, 4))\n",
        "print('Первый массив:\\n', a2)\n",
        "print('\\nВторой массив:\\n', b2)"
      ],
      "metadata": {
        "id": "sN118Sz4gFZT"
      },
      "execution_count": null,
      "outputs": []
    },
    {
      "cell_type": "markdown",
      "source": [
        "Преобразовали их в одномерный массив, для того,чтобы найти одинаковые элементы, как в первом случае\n"
      ],
      "metadata": {
        "id": "1_06wGLFhb8E"
      }
    },
    {
      "cell_type": "code",
      "source": [
        "a2 = a2.reshape(-1)\n",
        "b2 = b2.reshape(-1)\n",
        "print(a2,b2)"
      ],
      "metadata": {
        "id": "WmgNKzvkhdDn"
      },
      "execution_count": null,
      "outputs": []
    },
    {
      "cell_type": "code",
      "source": [
        "c2 = np.array(list(set(a2) & set(b2)))\n",
        "print(c2)"
      ],
      "metadata": {
        "id": "Os5jzytxi8jq"
      },
      "execution_count": null,
      "outputs": []
    }
  ]
}