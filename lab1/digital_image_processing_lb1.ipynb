{
  "nbformat": 4,
  "nbformat_minor": 0,
  "metadata": {
    "colab": {
      "provenance": [],
      "authorship_tag": "ABX9TyPyUXZUSHirjPXfeLSaLz+T",
      "include_colab_link": true
    },
    "kernelspec": {
      "name": "python3",
      "display_name": "Python 3"
    },
    "language_info": {
      "name": "python"
    }
  },
  "cells": [
    {
      "cell_type": "markdown",
      "metadata": {
        "id": "view-in-github",
        "colab_type": "text"
      },
      "source": [
        "<a href=\"https://colab.research.google.com/github/Elimirage/digital_image_processing_24vvim1/blob/main/lab1/digital_image_processing_lb1.ipynb\" target=\"_parent\"><img src=\"https://colab.research.google.com/assets/colab-badge.svg\" alt=\"Open In Colab\"/></a>"
      ]
    },
    {
      "cell_type": "markdown",
      "source": [
        "# **Лабораторная работа №1**\n",
        "\n",
        "*   Группа: 24ВВИм1\n",
        "*   Юмаева Эльмира\n",
        "\n"
      ],
      "metadata": {
        "id": "W4QmglCUdP4p"
      }
    },
    {
      "cell_type": "markdown",
      "source": [
        "Задание: Необходимо средствами библиотеки numpy сгенерировать два массива со случайными значениями, найти одинаковые и сохранить в третий массив."
      ],
      "metadata": {
        "id": "nhNc6gk6VZzi"
      }
    },
    {
      "cell_type": "code",
      "execution_count": 47,
      "metadata": {
        "colab": {
          "base_uri": "https://localhost:8080/"
        },
        "id": "v5xbYDLfSvvD",
        "outputId": "5a80bd63-c6c1-4abe-c6f1-eb0cc3b65b71"
      },
      "outputs": [
        {
          "output_type": "stream",
          "name": "stdout",
          "text": [
            "Requirement already satisfied: numpy in /usr/local/lib/python3.12/dist-packages (2.0.2)\n"
          ]
        }
      ],
      "source": [
        "!pip3 install numpy"
      ]
    },
    {
      "cell_type": "code",
      "source": [
        "import numpy as np"
      ],
      "metadata": {
        "id": "LGXlez6qVaaO"
      },
      "execution_count": 48,
      "outputs": []
    },
    {
      "cell_type": "markdown",
      "source": [
        "# **Одномерные массивы**"
      ],
      "metadata": {
        "id": "DFDG5R3Ift5P"
      }
    },
    {
      "cell_type": "markdown",
      "source": [
        "Создаем массив, заполненный случайными значениями:\n",
        "rnd = np.random.default_rng() -- создаем генератор\n",
        "rnd.integers(min, max, n) -- возвращаем массив размерности n случайных равномерно расспределенных целых чисел, где x ∈ [min, max)\n",
        "Создаем два случайно заполненных массива и один пустой список, для того, чтобы заполнить их повторяющимися элементами. Выводим на экран массивы"
      ],
      "metadata": {
        "id": "G97RsmZLdxUX"
      }
    },
    {
      "cell_type": "code",
      "source": [
        "rnd = np.random.default_rng()\n",
        "a = rnd.integers(0, 100, 30)\n",
        "b = rnd.integers(0, 100, 30)\n",
        "c = []\n",
        "print('Первый массив:',a)\n",
        "print('Второй массив:',b)"
      ],
      "metadata": {
        "colab": {
          "base_uri": "https://localhost:8080/"
        },
        "id": "ZVeEATOoVqHK",
        "outputId": "7a64b820-2364-4d45-ff81-027655b5160b"
      },
      "execution_count": 60,
      "outputs": [
        {
          "output_type": "stream",
          "name": "stdout",
          "text": [
            "Первый массив: [72  0 97 86 89 57 78 40 21 71 38 55 68 20 20 22 66 14 72 27 51 22 29 49\n",
            " 44 87 25 62 55 15]\n",
            "Второй массив: [52 60 15 37 46 43 20 37 32 69 25 28 11 67 77 37 65  7 44 49 94 82 17 69\n",
            " 84 14  8 27 36 72]\n"
          ]
        }
      ]
    },
    {
      "cell_type": "markdown",
      "source": [
        "В цикле проверяем находится ли i-тый элемент во втором массиве, есла да - то добавляем его в список. В конце преобразуем нашсписок в массив и выводим на экран. В результате получем массив с повторяющимися элементами"
      ],
      "metadata": {
        "id": "9br-qzJ2eoR6"
      }
    },
    {
      "cell_type": "code",
      "source": [
        "for i in range(len(a)):\n",
        "    if a[i] in b:\n",
        "        c.append(a[i])\n",
        "c = np.array(c)\n",
        "print(c)"
      ],
      "metadata": {
        "colab": {
          "base_uri": "https://localhost:8080/"
        },
        "id": "64S0jaogbWWN",
        "outputId": "352dab7c-7325-4557-cb87-8e364ea2eb19"
      },
      "execution_count": 50,
      "outputs": [
        {
          "output_type": "stream",
          "name": "stdout",
          "text": [
            "[97 41 76 49 60]\n"
          ]
        }
      ]
    },
    {
      "cell_type": "markdown",
      "source": [
        "Если же мыхотим получить только уникальные элементы в новом массиве, то используем функцию set, котрая оставляет только уникальные значения и пересечение"
      ],
      "metadata": {
        "id": "ZHkzDn52fGi9"
      }
    },
    {
      "cell_type": "code",
      "source": [
        "c = np.array(list(set(a) & set(b)))\n",
        "print(c)"
      ],
      "metadata": {
        "colab": {
          "base_uri": "https://localhost:8080/"
        },
        "id": "tFkl9LYWYrDa",
        "outputId": "9d92b297-04ff-4d44-dc46-f7d88c92d5bc"
      },
      "execution_count": 51,
      "outputs": [
        {
          "output_type": "stream",
          "name": "stdout",
          "text": [
            "[97 41 76 49 60]\n"
          ]
        }
      ]
    },
    {
      "cell_type": "markdown",
      "source": [
        "# **Многомерные массивы**"
      ],
      "metadata": {
        "id": "ZbT9mqT5f-9C"
      }
    },
    {
      "cell_type": "markdown",
      "source": [
        "Сгенертровали многомерные массивы"
      ],
      "metadata": {
        "id": "BLDfQZBujjE2"
      }
    },
    {
      "cell_type": "code",
      "source": [
        "a2 = np.random.randint(0, 57, size=(5, 4))\n",
        "b2 = np.random.randint(0, 57, size=(5, 4))\n",
        "print('Первый массив:\\n', a2)\n",
        "print('\\nВторой массив:\\n', b2)"
      ],
      "metadata": {
        "colab": {
          "base_uri": "https://localhost:8080/"
        },
        "id": "sN118Sz4gFZT",
        "outputId": "2e7f7dab-a363-4699-9c59-7bbc5e7c3f2b"
      },
      "execution_count": 84,
      "outputs": [
        {
          "output_type": "stream",
          "name": "stdout",
          "text": [
            "Первый массив:\n",
            " [[44 30 24 38]\n",
            " [23 47  1  7]\n",
            " [36 33 42 33]\n",
            " [19 56 24 29]\n",
            " [42 38 45 12]]\n",
            "\n",
            "Второй массив:\n",
            " [[47 55 51 34]\n",
            " [ 4 14 26 15]\n",
            " [11 10 54 41]\n",
            " [ 6 43 45 37]\n",
            " [ 3 17 21  2]]\n"
          ]
        }
      ]
    },
    {
      "cell_type": "markdown",
      "source": [
        "Преобразовали их в одномерный массив, для того,чтобы найти одинаковые элементы, как в первом случае\n"
      ],
      "metadata": {
        "id": "1_06wGLFhb8E"
      }
    },
    {
      "cell_type": "code",
      "source": [
        "a2 = a2.reshape(-1)\n",
        "b2 = b2.reshape(-1)\n",
        "print(a2,b2)"
      ],
      "metadata": {
        "colab": {
          "base_uri": "https://localhost:8080/"
        },
        "id": "WmgNKzvkhdDn",
        "outputId": "7a03d8bf-4f11-4265-f156-c560f5252d71"
      },
      "execution_count": 85,
      "outputs": [
        {
          "output_type": "stream",
          "name": "stdout",
          "text": [
            "[44 30 24 38 23 47  1  7 36 33 42 33 19 56 24 29 42 38 45 12] [47 55 51 34  4 14 26 15 11 10 54 41  6 43 45 37  3 17 21  2]\n"
          ]
        }
      ]
    },
    {
      "cell_type": "code",
      "source": [
        "c2 = np.array(list(set(a2) & set(b2)))\n",
        "print(c2)"
      ],
      "metadata": {
        "colab": {
          "base_uri": "https://localhost:8080/"
        },
        "id": "Os5jzytxi8jq",
        "outputId": "d88abdde-9c77-43d4-ae65-7e2da629ac58"
      },
      "execution_count": 86,
      "outputs": [
        {
          "output_type": "stream",
          "name": "stdout",
          "text": [
            "[45 47]\n"
          ]
        }
      ]
    }
  ]
}